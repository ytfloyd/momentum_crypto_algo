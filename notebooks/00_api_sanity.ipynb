{
  "cells": [
    {
      "cell_type": "code",
      "execution_count": null,
      "metadata": {
        "vscode": {
          "languageId": "plaintext"
        }
      },
      "outputs": [],
      "source": [
        "# Coinbase API Sanity Check\n",
        "\n",
        "This notebook provides basic API testing and verification for the Coinbase rebalancing agent.\n"
      ]
    },
    {
      "cell_type": "code",
      "execution_count": null,
      "metadata": {},
      "outputs": [],
      "source": [
        "import os\n",
        "import sys\n",
        "from dotenv import load_dotenv\n",
        "from coinbase.rest import RESTClient\n",
        "\n",
        "# Load environment variables\n",
        "load_dotenv()\n",
        "\n",
        "# Add the agent module to the path\n",
        "sys.path.append('../')\n",
        "\n",
        "# Initialize Coinbase client\n",
        "client = RESTClient(\n",
        "    api_key=os.getenv(\"CB_API_KEY\"),\n",
        "    api_secret=os.getenv(\"CB_API_SECRET\"),\n",
        "    base_url=os.getenv(\"CB_API_URL\", \"https://api.coinbase.com\")\n",
        ")\n",
        "\n",
        "print(\"✅ Coinbase client initialized\")\n"
      ]
    },
    {
      "cell_type": "code",
      "execution_count": null,
      "metadata": {},
      "outputs": [],
      "source": [
        "from agent.selector import build_target_weights, fetch_usd_products\n",
        "\n",
        "# Test dynamic selector with top 10 assets\n",
        "print(\"🔍 Testing dynamic selector...\")\n",
        "tgt = build_target_weights(client, top_n=10)\n",
        "print(f\"📊 Generated target weights for {len(tgt)} assets:\")\n",
        "for asset, weight in tgt.items():\n",
        "    print(f\"  {asset}: {weight:.4f} ({weight*100:.2f}%)\")\n",
        "\n",
        "print(f\"\\n💰 Total allocation: {sum(tgt.values()):.4f} ({sum(tgt.values())*100:.2f}%)\")\n",
        "print(f\"💵 Cash buffer: {1 - sum(tgt.values()):.4f} ({(1 - sum(tgt.values()))*100:.2f}%)\")\n"
      ]
    },
    {
      "cell_type": "code",
      "execution_count": null,
      "metadata": {},
      "outputs": [],
      "source": [
        "# Basic API connectivity test\n",
        "print(\"🌐 Testing API connectivity...\")\n",
        "\n",
        "try:\n",
        "    # Test basic API call\n",
        "    products = client.list_products(limit=5)\n",
        "    print(f\"✅ API connection successful!\")\n",
        "    print(f\"📦 Found {len(products['products'])} products (showing first 5)\")\n",
        "    \n",
        "    for product in products['products']:\n",
        "        print(f\"  - {product['product_id']}: {product['status']}\")\n",
        "        \n",
        "except Exception as e:\n",
        "    print(f\"❌ API connection failed: {e}\")\n"
      ]
    },
    {
      "cell_type": "code",
      "execution_count": null,
      "metadata": {
        "vscode": {
          "languageId": "plaintext"
        }
      },
      "outputs": [],
      "source": [
        "# Coinbase API Sanity Check\n",
        "\n",
        "This notebook verifies API connectivity and demonstrates portfolio visualization capabilities.\n"
      ]
    },
    {
      "cell_type": "code",
      "execution_count": null,
      "metadata": {},
      "outputs": [],
      "source": [
        "# Import required libraries\n",
        "import os\n",
        "import sys\n",
        "import pandas as pd\n",
        "import matplotlib.pyplot as plt\n",
        "import seaborn as sns\n",
        "from decimal import Decimal\n",
        "from dotenv import load_dotenv\n",
        "\n",
        "# Load environment variables\n",
        "load_dotenv()\n",
        "\n",
        "# Add parent directory to path to import agent modules\n",
        "sys.path.append('..')\n",
        "\n",
        "from agent import config, utils\n",
        "from agent.utils import get_client, fetch_nav_and_positions, calculate_current_weights\n",
        "\n",
        "# Set up plotting style\n",
        "plt.style.use('seaborn-v0_8')\n",
        "sns.set_palette(\"husl\")\n",
        "\n",
        "print(\"✅ All imports successful!\")\n"
      ]
    },
    {
      "cell_type": "code",
      "execution_count": null,
      "metadata": {},
      "outputs": [],
      "source": [
        "## 1. API Configuration Check\n"
      ]
    },
    {
      "cell_type": "code",
      "execution_count": null,
      "metadata": {},
      "outputs": [],
      "source": [
        "# Check API configuration\n",
        "print(\"🔧 API Configuration:\")\n",
        "print(f\"  API URL: {config.API_URL}\")\n",
        "print(f\"  API Key: {'✅ Set' if config.API_KEY else '❌ Not set'}\")\n",
        "print(f\"  API Secret: {'✅ Set' if config.API_SECRET else '❌ Not set'}\")\n",
        "print(f\"  API Passphrase: {'✅ Set' if config.API_PASSPHRASE else '❌ Not set'}\")\n",
        "print(f\"  Portfolio ID: {'✅ Set' if config.PORTFOLIO_ID else '❌ Not set'}\")\n",
        "print(f\"  Dry Run: {config.DRY_RUN}\")\n",
        "\n",
        "# Validate configuration\n",
        "try:\n",
        "    config.validate_config()\n",
        "    print(\"\\n✅ Configuration is valid!\")\n",
        "except Exception as e:\n",
        "    print(f\"\\n❌ Configuration error: {e}\")\n",
        "    print(\"💡 Make sure to copy .env.example to .env and fill in your API credentials\")\n"
      ]
    },
    {
      "cell_type": "code",
      "execution_count": null,
      "metadata": {},
      "outputs": [],
      "source": [
        "## 2. Portfolio Visualization\n"
      ]
    },
    {
      "cell_type": "code",
      "execution_count": null,
      "metadata": {},
      "outputs": [],
      "source": [
        "# Create sample portfolio data for visualization\n",
        "sample_portfolio = {\n",
        "    'BTC-USD': 0.15,   # 15%\n",
        "    'ETH-USD': 0.20,   # 20%\n",
        "    'SOL-USD': 0.12,   # 12%\n",
        "    'ADA-USD': 0.10,   # 10%\n",
        "    'DOT-USD': 0.08,   # 8%\n",
        "    'AVAX-USD': 0.08,  # 8%\n",
        "    'LINK-USD': 0.07,  # 7%\n",
        "    'ATOM-USD': 0.07,  # 7%\n",
        "    'ALGO-USD': 0.06,  # 6%\n",
        "    'MATIC-USD': 0.07, # 7%\n",
        "}\n",
        "\n",
        "# Create comparison with target weights\n",
        "comparison_data = []\n",
        "for symbol, current_weight in sample_portfolio.items():\n",
        "    target_weight = float(config.TARGET_WEIGHTS.get(symbol, 0))\n",
        "    comparison_data.append({\n",
        "        'Asset': symbol,\n",
        "        'Current': current_weight * 100,\n",
        "        'Target': target_weight * 100,\n",
        "        'Difference': (target_weight - current_weight) * 100\n",
        "    })\n",
        "\n",
        "df_comparison = pd.DataFrame(comparison_data)\n",
        "\n",
        "# Create visualization\n",
        "fig, (ax1, ax2) = plt.subplots(1, 2, figsize=(15, 6))\n",
        "\n",
        "# Portfolio composition pie chart\n",
        "ax1.pie(df_comparison['Current'], labels=df_comparison['Asset'], autopct='%1.1f%%')\n",
        "ax1.set_title('Current Portfolio Composition', fontsize=14, fontweight='bold')\n",
        "\n",
        "# Current vs Target weights\n",
        "df_comparison.set_index('Asset')[['Current', 'Target']].plot(kind='bar', ax=ax2, color=['lightblue', 'orange'])\n",
        "ax2.set_title('Current vs Target Weights', fontsize=14, fontweight='bold')\n",
        "ax2.set_ylabel('Weight (%)')\n",
        "ax2.tick_params(axis='x', rotation=45)\n",
        "ax2.grid(True, alpha=0.3)\n",
        "\n",
        "plt.tight_layout()\n",
        "plt.show()\n",
        "\n",
        "print(\"📊 Portfolio visualization complete!\")\n",
        "print(f\"📈 Total assets: {len(df_comparison)}\")\n",
        "print(f\"🎯 Target weights configured: {len(config.TARGET_WEIGHTS)}\")\n"
      ]
    }
  ],
  "metadata": {
    "language_info": {
      "name": "python"
    }
  },
  "nbformat": 4,
  "nbformat_minor": 2
}
